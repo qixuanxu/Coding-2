{
 "cells": [
  {
   "cell_type": "code",
   "execution_count": null,
   "id": "e5f8cfeb",
   "metadata": {},
   "outputs": [],
   "source": [
    "guess = 0"
   ]
  },
  {
   "cell_type": "code",
   "execution_count": 14,
   "id": "5ff26854",
   "metadata": {},
   "outputs": [
    {
     "name": "stdout",
     "output_type": "stream",
     "text": [
      "Which letter is a drink?\n",
      "Type your guess,or'help1',or 'give up'below.\n",
      "i\n",
      " Wrong answer ... Try again!\n",
      "Which letter is a drink?\n",
      "Type your guess,or'help1',or 'give up'below.\n",
      "help1\n",
      "I'm a kind of plant. & A capital letter.\n",
      "Which letter is a drink?\n",
      "Type your guess,or'help1',or 'give up'below.\n",
      "T\n",
      "You win!\n"
     ]
    }
   ],
   "source": [
    "while True:\n",
    "    print(\"Which letter is a drink?\")\n",
    "    print(\"Type your guess,or'help1',or 'give up'below.\")\n",
    "    \n",
    "    answer = input()\n",
    "    if answer == \"T\":\n",
    "        print(\"You win!\")\n",
    "        break\n",
    "    \n",
    "    elif answer == \"help1\":\n",
    "        print(\"I'm a kind of plant. & A capital letter.\")\n",
    "        \n",
    "    elif answer == \"give up\":\n",
    "        print(\"Answer is T \")\n",
    "        break\n",
    "    \n",
    "    else:\n",
    "        print(\" Wrong answer ... Try again!\")"
   ]
  },
  {
   "cell_type": "code",
   "execution_count": null,
   "id": "685605e0",
   "metadata": {},
   "outputs": [],
   "source": []
  }
 ],
 "metadata": {
  "kernelspec": {
   "display_name": "Python 3 (ipykernel)",
   "language": "python",
   "name": "python3"
  },
  "language_info": {
   "codemirror_mode": {
    "name": "ipython",
    "version": 3
   },
   "file_extension": ".py",
   "mimetype": "text/x-python",
   "name": "python",
   "nbconvert_exporter": "python",
   "pygments_lexer": "ipython3",
   "version": "3.9.7"
  }
 },
 "nbformat": 4,
 "nbformat_minor": 5
}
