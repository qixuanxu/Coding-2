{
 "cells": [
  {
   "cell_type": "code",
   "execution_count": null,
   "id": "d2fd11b5",
   "metadata": {},
   "outputs": [],
   "source": [
    "# pip install tensorflow"
   ]
  },
  {
   "cell_type": "markdown",
   "id": "07e064c2",
   "metadata": {},
   "source": [
    "### Import Library"
   ]
  },
  {
   "cell_type": "code",
   "execution_count": 1,
   "id": "4e227120",
   "metadata": {},
   "outputs": [],
   "source": [
    "import requests\n",
    "from bs4 import BeautifulSoup\n",
    "from fake_useragent import UserAgent\n",
    "import time\n",
    "import csv\n",
    "import unicodedata"
   ]
  },
  {
   "cell_type": "markdown",
   "id": "ab95f504",
   "metadata": {},
   "source": [
    "###  Article achieving"
   ]
  },
  {
   "cell_type": "code",
   "execution_count": 2,
   "id": "ae82aa0d",
   "metadata": {},
   "outputs": [
    {
     "name": "stdout",
     "output_type": "stream",
     "text": [
      "Successful Writing*******************************************************\n"
     ]
    }
   ],
   "source": [
    "# head define\n",
    "h = {\"User-Agent\": UserAgent().random}\n",
    "html = requests.get(\"https://writing9.com/ielts-writing-samples\",headers=h)\n",
    "time.sleep(2)\n",
    "\n",
    "# catch text data from web\n",
    "txt = html.text\n",
    "nr = BeautifulSoup(txt,'html.parser')\n",
    "\n",
    "# Get the link for each article\n",
    "a = nr.select('a.jsx-721911361.link.link_theme_blue.root__link.link_decoration_none')\n",
    "html.close()\n",
    "\n",
    "num = 0\n",
    "list_1 = []\n",
    "for i in a:\n",
    "    if 9 < num:\n",
    "        break\n",
    "    if num==0:\n",
    "        print(\"Successful Writing\",end=\"\")\n",
    "    num += 1\n",
    "\n",
    "    link = i.get(\"href\")\n",
    "    \n",
    "    # Link up each article\n",
    "    zi_link = 'https://writing9.com'+link\n",
    "    headers_2 = {\"User-Agent\": UserAgent().random}\n",
    "    html_2 = requests.get(url=zi_link,headers=headers_2)\n",
    "\n",
    "    txt_2 = html_2.text\n",
    "    nr_2 = BeautifulSoup(txt_2, 'html.parser')\n",
    "\n",
    "    # jsx-319668748 content-editable undefined\n",
    "    div = nr_2.select('div.jsx-319668748.content-editable.undefined')\n",
    "    wenzhang = div[0].text\n",
    "    # Remove useless characters\n",
    "    ge_wenzhang = unicodedata.normalize('NFKC',wenzhang)\n",
    "\n",
    "    # Use a dictionary to store article content\n",
    "    dict ={}\n",
    "    dict[\"article\"] = ge_wenzhang\n",
    "    list_1.append(dict)\n",
    "    print(\"*\"* num,end='')\n",
    "    html_2.close()\n",
    "print()\n"
   ]
  },
  {
   "cell_type": "markdown",
   "id": "4538e363",
   "metadata": {},
   "source": [
    "### Save the captured article to the local"
   ]
  },
  {
   "cell_type": "code",
   "execution_count": 3,
   "id": "a8fb996e",
   "metadata": {},
   "outputs": [],
   "source": [
    "# Save the article in a CSV file\n",
    "with open(\"article.csv\", 'w', newline='') as fp:\n",
    "    writer = csv.DictWriter(fp, [\"article\"])\n",
    "    writer.writeheader()\n",
    "    writer.writerows(list_1)\n"
   ]
  },
  {
   "cell_type": "code",
   "execution_count": 4,
   "id": "535ed263",
   "metadata": {},
   "outputs": [],
   "source": [
    "import csv\n",
    "from transformers import pipeline\n"
   ]
  },
  {
   "cell_type": "markdown",
   "id": "69d58d41",
   "metadata": {},
   "source": [
    "### Generating article summaries"
   ]
  },
  {
   "cell_type": "code",
   "execution_count": 5,
   "id": "b0915ca0",
   "metadata": {},
   "outputs": [
    {
     "name": "stderr",
     "output_type": "stream",
     "text": [
      "No model was supplied, defaulted to t5-small (https://huggingface.co/t5-small)\n",
      "2022-06-12 23:42:20.767721: I tensorflow/core/platform/cpu_feature_guard.cc:193] This TensorFlow binary is optimized with oneAPI Deep Neural Network Library (oneDNN) to use the following CPU instructions in performance-critical operations:  AVX2 FMA\n",
      "To enable them in other operations, rebuild TensorFlow with the appropriate compiler flags.\n",
      "All model checkpoint layers were used when initializing TFT5ForConditionalGeneration.\n",
      "\n",
      "All the layers of TFT5ForConditionalGeneration were initialized from the model checkpoint at t5-small.\n",
      "If your task is similar to the task the model of the checkpoint was trained on, you can already use TFT5ForConditionalGeneration for predictions without further training.\n",
      "/opt/anaconda3/lib/python3.7/site-packages/transformers/models/t5/tokenization_t5_fast.py:161: FutureWarning: This tokenizer was incorrectly instantiated with a model max length of 512 which will be corrected in Transformers v5.\n",
      "For now, this behavior is kept to avoid breaking backwards compatibility when padding/encoding with `truncation is True`.\n",
      "- Be aware that you SHOULD NOT rely on t5-small automatically truncating your input to 512 when padding/encoding.\n",
      "- If you want to encode/pad to sequences longer than 512 you can either instantiate this tokenizer with `model_max_length` or pass `max_length` when encoding/padding.\n",
      "- To avoid this warning, please instantiate this tokenizer with `model_max_length` set to your preferred value.\n",
      "  FutureWarning,\n",
      "No model was supplied, defaulted to t5-small (https://huggingface.co/t5-small)\n"
     ]
    },
    {
     "name": "stdout",
     "output_type": "stream",
     "text": [
      "[{'summary_text': 'people are more concerned on male and female should have equal opportunties . aaron miller: universities should consider their talents rather than just providing equal opporunities . miller says academy should not provide unlimited offers to students without abilities assessment .'}]\n"
     ]
    },
    {
     "name": "stderr",
     "output_type": "stream",
     "text": [
      "All model checkpoint layers were used when initializing TFT5ForConditionalGeneration.\n",
      "\n",
      "All the layers of TFT5ForConditionalGeneration were initialized from the model checkpoint at t5-small.\n",
      "If your task is similar to the task the model of the checkpoint was trained on, you can already use TFT5ForConditionalGeneration for predictions without further training.\n",
      "No model was supplied, defaulted to t5-small (https://huggingface.co/t5-small)\n"
     ]
    },
    {
     "name": "stdout",
     "output_type": "stream",
     "text": [
      "[{'summary_text': \"in this essay, I will discuss why renting can allow a more flexible lifestyle but why it can eventually be financially disadvantageous . the biggest drawback of renting a property is that you won't profit from the sale .\"}]\n"
     ]
    },
    {
     "name": "stderr",
     "output_type": "stream",
     "text": [
      "All model checkpoint layers were used when initializing TFT5ForConditionalGeneration.\n",
      "\n",
      "All the layers of TFT5ForConditionalGeneration were initialized from the model checkpoint at t5-small.\n",
      "If your task is similar to the task the model of the checkpoint was trained on, you can already use TFT5ForConditionalGeneration for predictions without further training.\n",
      "No model was supplied, defaulted to t5-small (https://huggingface.co/t5-small)\n"
     ]
    },
    {
     "name": "stdout",
     "output_type": "stream",
     "text": [
      "[{'summary_text': 'olden days literature has a tendency of establishing personal interest in reading . this means that a person can develop a likeness to study varied booklets . some poetry is linked to cultural values while certain novels teach mannerisms.'}]\n"
     ]
    },
    {
     "name": "stderr",
     "output_type": "stream",
     "text": [
      "All model checkpoint layers were used when initializing TFT5ForConditionalGeneration.\n",
      "\n",
      "All the layers of TFT5ForConditionalGeneration were initialized from the model checkpoint at t5-small.\n",
      "If your task is similar to the task the model of the checkpoint was trained on, you can already use TFT5ForConditionalGeneration for predictions without further training.\n",
      "Token indices sequence length is longer than the specified maximum sequence length for this model (714 > 512). Running this sequence through the model will result in indexing errors\n",
      "No model was supplied, defaulted to t5-small (https://huggingface.co/t5-small)\n"
     ]
    },
    {
     "name": "stdout",
     "output_type": "stream",
     "text": [
      "[{'summary_text': 'show examples that health is wealth and this has made a few people to Change the verb formapplyIt appears that the verb to suggest should be in the bare infinitive form . consider removing to from in front of this verb. show examples a nation .'}]\n"
     ]
    },
    {
     "name": "stderr",
     "output_type": "stream",
     "text": [
      "All model checkpoint layers were used when initializing TFT5ForConditionalGeneration.\n",
      "\n",
      "All the layers of TFT5ForConditionalGeneration were initialized from the model checkpoint at t5-small.\n",
      "If your task is similar to the task the model of the checkpoint was trained on, you can already use TFT5ForConditionalGeneration for predictions without further training.\n",
      "Token indices sequence length is longer than the specified maximum sequence length for this model (541 > 512). Running this sequence through the model will result in indexing errors\n",
      "No model was supplied, defaulted to t5-small (https://huggingface.co/t5-small)\n"
     ]
    },
    {
     "name": "stdout",
     "output_type": "stream",
     "text": [
      "[{'summary_text': 'to Embark, learning a language has numerous benefits of teaching to children at an early age . children have more ability to observe and have a good grasping power because their behaviour is more versatile compared to adults . by practicing spellingpractising, you would be a better communicator in your future life .'}]\n"
     ]
    },
    {
     "name": "stderr",
     "output_type": "stream",
     "text": [
      "All model checkpoint layers were used when initializing TFT5ForConditionalGeneration.\n",
      "\n",
      "All the layers of TFT5ForConditionalGeneration were initialized from the model checkpoint at t5-small.\n",
      "If your task is similar to the task the model of the checkpoint was trained on, you can already use TFT5ForConditionalGeneration for predictions without further training.\n",
      "No model was supplied, defaulted to t5-small (https://huggingface.co/t5-small)\n"
     ]
    },
    {
     "name": "stdout",
     "output_type": "stream",
     "text": [
      "[{'summary_text': \"in this modern time, it is observed that there are students who not be able to pass exams properly, however, their life after school will end well . in the paragraphs below, we will discuss such an issue then I'll express my opinion .\"}]\n"
     ]
    },
    {
     "name": "stderr",
     "output_type": "stream",
     "text": [
      "All model checkpoint layers were used when initializing TFT5ForConditionalGeneration.\n",
      "\n",
      "All the layers of TFT5ForConditionalGeneration were initialized from the model checkpoint at t5-small.\n",
      "If your task is similar to the task the model of the checkpoint was trained on, you can already use TFT5ForConditionalGeneration for predictions without further training.\n",
      "Token indices sequence length is longer than the specified maximum sequence length for this model (589 > 512). Running this sequence through the model will result in indexing errors\n",
      "No model was supplied, defaulted to t5-small (https://huggingface.co/t5-small)\n"
     ]
    },
    {
     "name": "stdout",
     "output_type": "stream",
     "text": [
      "[{'summary_text': 'many people trust it is advisable to teach a foreign language at an early age . but the merit of this notion outnumbered its demerit . many multinational companies prefer those who have expertise in a few languages . to Embark, learning a language has numerous benefits of teaching to children .'}]\n"
     ]
    },
    {
     "name": "stderr",
     "output_type": "stream",
     "text": [
      "All model checkpoint layers were used when initializing TFT5ForConditionalGeneration.\n",
      "\n",
      "All the layers of TFT5ForConditionalGeneration were initialized from the model checkpoint at t5-small.\n",
      "If your task is similar to the task the model of the checkpoint was trained on, you can already use TFT5ForConditionalGeneration for predictions without further training.\n",
      "No model was supplied, defaulted to t5-small (https://huggingface.co/t5-small)\n"
     ]
    },
    {
     "name": "stdout",
     "output_type": "stream",
     "text": [
      "[{'summary_text': 'reducing the time spent on commuting has sparked a heated debate . some are of the opinion that turning green parks into apartment complexes is of great assistance . but most people including me ratify the opposite idea . despite that, the merits of travelling from suburbs to city centres can improve this condition to some extent .'}]\n"
     ]
    },
    {
     "name": "stderr",
     "output_type": "stream",
     "text": [
      "All model checkpoint layers were used when initializing TFT5ForConditionalGeneration.\n",
      "\n",
      "All the layers of TFT5ForConditionalGeneration were initialized from the model checkpoint at t5-small.\n",
      "If your task is similar to the task the model of the checkpoint was trained on, you can already use TFT5ForConditionalGeneration for predictions without further training.\n",
      "No model was supplied, defaulted to t5-small (https://huggingface.co/t5-small)\n"
     ]
    },
    {
     "name": "stdout",
     "output_type": "stream",
     "text": [
      "[{'summary_text': \"the majority of the world's population is living in urban areas . crime and air pollution are two of the various problems of urban life . governments should promote migration from urban areas to rural ones .\"}]\n"
     ]
    },
    {
     "name": "stderr",
     "output_type": "stream",
     "text": [
      "All model checkpoint layers were used when initializing TFT5ForConditionalGeneration.\n",
      "\n",
      "All the layers of TFT5ForConditionalGeneration were initialized from the model checkpoint at t5-small.\n",
      "If your task is similar to the task the model of the checkpoint was trained on, you can already use TFT5ForConditionalGeneration for predictions without further training.\n"
     ]
    },
    {
     "name": "stdout",
     "output_type": "stream",
     "text": [
      "[{'summary_text': 'the best road has been growing up culture in the society . it is a big problem for the government and the citizens so we have to find the best solution for this topic . if humen have a good target, the rate of crime fully decreases in the city .'}]\n"
     ]
    }
   ],
   "source": [
    "#  Read the content of the article\n",
    "with open('article.csv', 'r') as f:\n",
    "     reader = csv.reader(f)\n",
    "     result = list(reader)\n",
    "\n",
    "\n",
    "f = open(\"Text Abstract.txt\",\"w\",encoding=\"utf-8\")\n",
    "for i in range(1,11):\n",
    "    to_tokenize = result[i][0]\n",
    "\n",
    "    # Generate text summaries\n",
    "    summarizer = pipeline(\"summarization\")\n",
    "#     summarized = summarizer(to_tokenize, min_length=7, max_length=30000)\n",
    "    summarized = summarizer(to_tokenize, min_length=7, max_length=198)\n",
    "\n",
    "    print(summarized)\n",
    "    # Put text summaries into text file.\n",
    "    f.write(summarized[0][\"summary_text\"]+\"\\n\")\n",
    "f.close()\n"
   ]
  },
  {
   "cell_type": "markdown",
   "id": "18b7d905",
   "metadata": {},
   "source": [
    "### Analyze and rank the most common words in all articles"
   ]
  },
  {
   "cell_type": "code",
   "execution_count": 6,
   "id": "ac20da81",
   "metadata": {},
   "outputs": [],
   "source": [
    "import csv\n",
    "import re\n",
    "import matplotlib.pyplot as plt"
   ]
  },
  {
   "cell_type": "code",
   "execution_count": 7,
   "id": "c5473bd0",
   "metadata": {},
   "outputs": [
    {
     "name": "stdout",
     "output_type": "stream",
     "text": [
      "the: 147\n",
      "to: 116\n",
      "a: 108\n",
      "of: 89\n",
      "and: 87\n",
      "is: 77\n",
      "that: 66\n",
      "in: 66\n",
      "their: 46\n",
      "be: 37\n"
     ]
    }
   ],
   "source": [
    "# Read the article file.\n",
    "with open('article.csv', 'r') as f:\n",
    "    reader = csv.reader(f)\n",
    "    result = list(reader)\n",
    "\n",
    "    \n",
    "# Select all the words in the passage.\n",
    "zong = \"\"\n",
    "for i in range(1,11):\n",
    "    pian = result[i][0]\n",
    "    wenzhang = re.sub(r\"\\W+\", \" \", pian)\n",
    "    zong += wenzhang+\" \"\n",
    "# Split the string into lists.\n",
    "list_2 = zong.split(\" \")\n",
    "pp = [] \n",
    "dic_max = {}\n",
    "# The number of statistical.\n",
    "for i in list_2:\n",
    "    xx = list_2.count(i)\n",
    "    pp.append(xx)\n",
    "    \n",
    "# Choose the 10 words with the most number of occurrences.\n",
    "for i in range(len(pp)):\n",
    "    zd = max(pp)\n",
    "    wz = pp.index(zd)\n",
    "    dic_max[list_2[wz]] = zd\n",
    "    del list_2[wz]\n",
    "    del pp[wz]\n",
    "    if len(dic_max)>9:\n",
    "        break\n",
    "\n",
    "\n",
    "for key, value in dic_max.items():\n",
    "    print(key+\": \"+str(value))\n"
   ]
  },
  {
   "cell_type": "markdown",
   "id": "330df3b7",
   "metadata": {},
   "source": [
    "### Draw a table"
   ]
  },
  {
   "cell_type": "code",
   "execution_count": 8,
   "id": "db733a00",
   "metadata": {},
   "outputs": [
    {
     "data": {
      "image/png": "[encoded data removed]",
      "text/plain": [
       "<Figure size 432x288 with 1 Axes>"
      ]
     },
     "metadata": {
      "needs_background": "light"
     },
     "output_type": "display_data"
    }
   ],
   "source": [
    "data = []\n",
    "name = []\n",
    "for key,value in dic_max.items():\n",
    "    data.append(value)\n",
    "    name.append(key)\n",
    "# Take the name of the word as the abscissa and the number as the ordinate\n",
    "plt.bar(name, data)\n",
    "plt.show()"
   ]
  },
  {
   "cell_type": "code",
   "execution_count": null,
   "id": "a43e3fb0",
   "metadata": {},
   "outputs": [],
   "source": []
  }
 ],
 "metadata": {
  "kernelspec": {
   "display_name": "Python 3 (ipykernel)",
   "language": "python",
   "name": "python3"
  },
  "language_info": {
   "codemirror_mode": {
    "name": "ipython",
    "version": 3
   },
   "file_extension": ".py",
   "mimetype": "text/x-python",
   "name": "python",
   "nbconvert_exporter": "python",
   "pygments_lexer": "ipython3",
   "version": "3.7.11"
  }
 },
 "nbformat": 4,
 "nbformat_minor": 5
}
